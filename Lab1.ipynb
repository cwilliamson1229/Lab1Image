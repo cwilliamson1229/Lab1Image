{
  "nbformat": 4,
  "nbformat_minor": 0,
  "metadata": {
    "colab": {
      "name": "Lab1.ipynb",
      "provenance": [],
      "toc_visible": true,
      "authorship_tag": "ABX9TyNfX746izEfFyrpK8IghZE0",
      "include_colab_link": true
    },
    "kernelspec": {
      "name": "python3",
      "display_name": "Python 3"
    }
  },
  "cells": [
    {
      "cell_type": "markdown",
      "metadata": {
        "id": "view-in-github",
        "colab_type": "text"
      },
      "source": [
        "<a href=\"https://colab.research.google.com/github/cwilliamson1229/Lab1Image/blob/master/Lab1.ipynb\" target=\"_parent\"><img src=\"https://colab.research.google.com/assets/colab-badge.svg\" alt=\"Open In Colab\"/></a>"
      ]
    },
    {
      "cell_type": "code",
      "metadata": {
        "id": "qlzdBNFVKpGS",
        "colab_type": "code",
        "colab": {}
      },
      "source": [
        ""
      ],
      "execution_count": 0,
      "outputs": []
    },
    {
      "cell_type": "markdown",
      "metadata": {
        "id": "bvqGTNTUJebO",
        "colab_type": "text"
      },
      "source": [
        "### Precipitation in State College\n"
      ]
    },
    {
      "cell_type": "markdown",
      "metadata": {
        "id": "d30wv4IULd3k",
        "colab_type": "text"
      },
      "source": [
        "#### With the data provided regarding precipitation and snowfall in State College, I decided to take a subset of the data. I took the data from the first of January of each year in order to compare the differences in precipitation and snowfall throughout the years. In my opinion, this was the best way to highlight differences in weather throughout the years.  "
      ]
    },
    {
      "cell_type": "markdown",
      "metadata": {
        "id": "PricHLwZ6itW",
        "colab_type": "text"
      },
      "source": [
        "![alt text](https://raw.githubusercontent.com/cwilliamson1229/Lab1Image/master/Graph/IMG_3897.jpeg)"
      ]
    },
    {
      "cell_type": "markdown",
      "metadata": {
        "id": "4iA4JRAxP7HG",
        "colab_type": "text"
      },
      "source": [
        "### Overall, the subset of data did not portray as much as I would have liked to the viewers. I attempted to utilize different colors in order to take advantage of visualization. However, the dates I took my data from had no snowfall. Thus, it seemed as though I was comparing nothing on my graph.\n"
      ]
    }
  ]
}