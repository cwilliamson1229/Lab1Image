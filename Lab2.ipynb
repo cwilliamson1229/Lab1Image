{
  "nbformat": 4,
  "nbformat_minor": 0,
  "metadata": {
    "colab": {
      "name": "Lab2.ipynb",
      "provenance": [],
      "collapsed_sections": [],
      "include_colab_link": true
    },
    "kernelspec": {
      "name": "python3",
      "display_name": "Python 3"
    }
  },
  "cells": [
    {
      "cell_type": "markdown",
      "metadata": {
        "id": "view-in-github",
        "colab_type": "text"
      },
      "source": [
        "<a href=\"https://colab.research.google.com/github/cwilliamson1229/Lab1Image/blob/master/Lab2.ipynb\" target=\"_parent\"><img src=\"https://colab.research.google.com/assets/colab-badge.svg\" alt=\"Open In Colab\"/></a>"
      ]
    },
    {
      "cell_type": "markdown",
      "metadata": {
        "id": "6sOc4Uyr4U-Z",
        "colab_type": "text"
      },
      "source": [
        "## Graph Types"
      ]
    },
    {
      "cell_type": "markdown",
      "metadata": {
        "id": "0zZdVLAd5CYr",
        "colab_type": "text"
      },
      "source": [
        "Creator\n",
        "* Christina Williamson"
      ]
    },
    {
      "cell_type": "markdown",
      "metadata": {
        "id": "g-r6Clq45Hn4",
        "colab_type": "text"
      },
      "source": [
        "### Deviation\n"
      ]
    },
    {
      "cell_type": "markdown",
      "metadata": {
        "id": "2gorxo6E7A0t",
        "colab_type": "text"
      },
      "source": [
        "![alt text](https://raw.githubusercontent.com/sprib012/SRA268/master/Download%20Image-5.png)"
      ]
    },
    {
      "cell_type": "markdown",
      "metadata": {
        "id": "w6bZ_NEi7E3w",
        "colab_type": "text"
      },
      "source": [
        "#### What is this telling us?"
      ]
    },
    {
      "cell_type": "markdown",
      "metadata": {
        "id": "95L-spaC7QHF",
        "colab_type": "text"
      },
      "source": [
        "The graph above is a spine chart in order to demonstrate deviation. The measure names being compared are the years 2011 and 2012, which are the years the included games were played in. The points is the value that is split amongst these 2 years with contrasting colors: blue and orange. The use of these colors is vital to the graph itself and what it is trying to showcase as these different years are being compared side-to-side. A key on the right makes it easy for viewers to navigate and interpret. The 5 teams are displayed on the y-axis for easy-to-read horizontal visualization. "
      ]
    },
    {
      "cell_type": "markdown",
      "metadata": {
        "id": "YgXyXjmz7cDP",
        "colab_type": "text"
      },
      "source": [
        "### Correlation\n"
      ]
    },
    {
      "cell_type": "markdown",
      "metadata": {
        "id": "SGx15rZq7hvt",
        "colab_type": "text"
      },
      "source": [
        "![alt text](https://raw.githubusercontent.com/Jflatley22/SRA-268/master/images/Correlation.png)"
      ]
    },
    {
      "cell_type": "markdown",
      "metadata": {
        "id": "dljjONNi7jmj",
        "colab_type": "text"
      },
      "source": [
        "#### What is this telling us?"
      ]
    },
    {
      "cell_type": "markdown",
      "metadata": {
        "id": "PwZEZrFB7laG",
        "colab_type": "text"
      },
      "source": [
        "This graph accurately demonstrates the correlation between the winning seed for each game in the March Madness tournament and that team's total points. Color is utilized to visually display the change in the total amount of points as seen in the dots on the graph and clarified in the key in the upper right-hand corner. A simple scatterplot successfully portrays the negative correlation, as each variable received its own axis. The consistent numbers on each axis prevent any misleading data being shown to any viewers and no borders keep the graph simple and focused on the dots."
      ]
    },
    {
      "cell_type": "markdown",
      "metadata": {
        "id": "MqUdI-uL7r2s",
        "colab_type": "text"
      },
      "source": [
        "### Ranking\n"
      ]
    },
    {
      "cell_type": "markdown",
      "metadata": {
        "id": "AvlxCOVt7x9F",
        "colab_type": "text"
      },
      "source": [
        "![alt text](https://raw.githubusercontent.com/sprib012/SRA268/master/Download%20Image-3.png)"
      ]
    },
    {
      "cell_type": "markdown",
      "metadata": {
        "id": "lCAYtfza7yTq",
        "colab_type": "text"
      },
      "source": [
        "#### What is this telling us?"
      ]
    },
    {
      "cell_type": "markdown",
      "metadata": {
        "id": "MyuciD277ygU",
        "colab_type": "text"
      },
      "source": [
        "In order to portray ranking, an ordered bar chart was crucial for the data. Because the teams were ranked based on the number of points they scored in total, ordinary bar charts would not have displayed the necessary information properly without these bars on top of one another and in a specific order. They are ranked according to their total points scored, therefore, the team with the highest, being Arizona, sits on the top of the chart and from there, the numbers slowly, diminish. Different colors are not 100% necessary in this case as the graph is perfectly understood with one singular color being used. The main point of the data is highlighted by the graph itself and since there is a vast amount of data for this particular graph, keeping it simple is vital."
      ]
    },
    {
      "cell_type": "markdown",
      "metadata": {
        "id": "dGDGl8-G7y8Y",
        "colab_type": "text"
      },
      "source": [
        "### Distribution\n"
      ]
    },
    {
      "cell_type": "markdown",
      "metadata": {
        "id": "FB0uV-jy76p9",
        "colab_type": "text"
      },
      "source": [
        "![alt text](https://raw.githubusercontent.com/Jflatley22/SRA-268/master/images/Distribution.png)"
      ]
    },
    {
      "cell_type": "markdown",
      "metadata": {
        "id": "_6SOzhrQ76zH",
        "colab_type": "text"
      },
      "source": [
        "#### What is this telling us?"
      ]
    },
    {
      "cell_type": "markdown",
      "metadata": {
        "id": "HBWqsS_g767h",
        "colab_type": "text"
      },
      "source": [
        "A histogram was utilized in order to best demonstrate the distribution between the number of points scored by the losing team and the number of teams in the dataset that lost by this amount of points. A certain skewness is portrayed in this graph above, which appears primarily symmetrical. Additionally, in a histogram there are limited spaces in between the bars (similar to a bar graph except for the spacial dynamic) in order to best highlight the shape of the data in order to get a better grasp on the distribution of these 2 variables."
      ]
    },
    {
      "cell_type": "markdown",
      "metadata": {
        "id": "wQsDThk677Fy",
        "colab_type": "text"
      },
      "source": [
        "### Change over Time\n"
      ]
    },
    {
      "cell_type": "markdown",
      "metadata": {
        "id": "Z1j_YLOA7_OK",
        "colab_type": "text"
      },
      "source": [
        "![alt text](https://raw.githubusercontent.com/sprib012/SRA268/master/Download%20Image-4.png)"
      ]
    },
    {
      "cell_type": "markdown",
      "metadata": {
        "id": "mpfsmmgi7_Vj",
        "colab_type": "text"
      },
      "source": [
        "#### What is this telling us?"
      ]
    },
    {
      "cell_type": "markdown",
      "metadata": {
        "id": "rYLXoMMO7_di",
        "colab_type": "text"
      },
      "source": [
        "Using the provided dataset, change over time for the sum of the number of points scored by all of the losing teams for each year is portrayed in this line graph. On the x-axis, each year from 1985 up until 2017 are listed and the total number of points scored is represented on the y-axis. One color is used for the line in order to best showcase the trends that occur through these years. Additionally, accurate scales make a first glance at this data and the overall trend fairly precise. Without searching too hard for information, it is evident that there is a sudden increase among the first few years, but then overall, the number of points staggers up-and-down for all of the ones following. "
      ]
    },
    {
      "cell_type": "markdown",
      "metadata": {
        "id": "lFwiHoE-7_jZ",
        "colab_type": "text"
      },
      "source": [
        "### Magnitude\n"
      ]
    },
    {
      "cell_type": "markdown",
      "metadata": {
        "id": "ICQFnXj78EbF",
        "colab_type": "text"
      },
      "source": [
        "![alt text](https://raw.githubusercontent.com/Jflatley22/SRA-268/master/images/Mag2.png)"
      ]
    },
    {
      "cell_type": "markdown",
      "metadata": {
        "id": "QGG7XYG88Eii",
        "colab_type": "text"
      },
      "source": [
        "#### What is this telling us?"
      ]
    },
    {
      "cell_type": "markdown",
      "metadata": {
        "id": "VS7uGa0l8Eos",
        "colab_type": "text"
      },
      "source": [
        "A column chart works well to demonstrate data in order to explain magnitude. Magnitude compares the data in \"bins\". This graph is rather straight forward as it includes only winning teams and their total points. The x-axis includes the mascot of the basketball team and the y contains points scored by the the thousands. Notably, only one color is utilized because although there are different teams being represented, each team only has one variable on the chart-which is their total points. In this way, the bars can be used to compare these values easily.\n"
      ]
    },
    {
      "cell_type": "markdown",
      "metadata": {
        "id": "bEKFxP8R8Evk",
        "colab_type": "text"
      },
      "source": [
        "### Part-to-Whole\n"
      ]
    },
    {
      "cell_type": "markdown",
      "metadata": {
        "id": "WFHlcYKV8E35",
        "colab_type": "text"
      },
      "source": [
        "![alt text](https://raw.githubusercontent.com/cwilliamson1229/Lab2/master/Part-to-Whole/Part-to-Whole.jpg)"
      ]
    },
    {
      "cell_type": "markdown",
      "metadata": {
        "id": "PNSd3wlp8UZH",
        "colab_type": "text"
      },
      "source": [
        "#### What is this telling us?"
      ]
    },
    {
      "cell_type": "markdown",
      "metadata": {
        "id": "y9tb_QRA8aqt",
        "colab_type": "text"
      },
      "source": [
        "Overall, this graph is rather simple and, arguably, relationships between the total points scored for the winning teams and the kingdom in which their mascot is from have no relationship. However, this pie chart demonstrates a noticeable difference between the points scored for the Animalia kingdom versus the Plantae kingdom (about a difference of 126,000 points). Because of this significant difference, conclusions may be drawn- perhaps the Animalia kingdom itself is much larger than the Plantae or maybe winning teams choose similar mascots unintentionally. A legend is provided even though the graph itself is rather simple."
      ]
    }
  ]
}